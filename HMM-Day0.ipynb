{
 "cells": [
  {
   "cell_type": "code",
   "execution_count": 1,
   "id": "3f7b2247",
   "metadata": {},
   "outputs": [],
   "source": [
    "# iHMM"
   ]
  },
  {
   "cell_type": "code",
   "execution_count": 2,
   "id": "73739902",
   "metadata": {},
   "outputs": [],
   "source": [
    "import numpy as np\n",
    "import pandas as pd  \n",
    "from hmmlearn import hmm\n",
    "from sklearn.model_selection import train_test_split\n",
    "from sklearn.metrics import confusion_matrix\n",
    "from sklearn.metrics import roc_curve, auc\n",
    "import matplotlib.pyplot as plt\n",
    "from sklearn.metrics import classification_report"
   ]
  },
  {
   "cell_type": "code",
   "execution_count": 3,
   "id": "69f2fea0",
   "metadata": {},
   "outputs": [
    {
     "data": {
      "text/html": [
       "<div>\n",
       "<style scoped>\n",
       "    .dataframe tbody tr th:only-of-type {\n",
       "        vertical-align: middle;\n",
       "    }\n",
       "\n",
       "    .dataframe tbody tr th {\n",
       "        vertical-align: top;\n",
       "    }\n",
       "\n",
       "    .dataframe thead th {\n",
       "        text-align: right;\n",
       "    }\n",
       "</style>\n",
       "<table border=\"1\" class=\"dataframe\">\n",
       "  <thead>\n",
       "    <tr style=\"text-align: right;\">\n",
       "      <th></th>\n",
       "      <th>Frost_pt</th>\n",
       "      <th>Temp_MAX</th>\n",
       "      <th>Temp_MIN</th>\n",
       "      <th>Specific_Hum</th>\n",
       "      <th>Relative_Hum</th>\n",
       "      <th>Winds_Max</th>\n",
       "      <th>Winds_Min</th>\n",
       "      <th>RainY0</th>\n",
       "      <th>RainN0</th>\n",
       "    </tr>\n",
       "  </thead>\n",
       "  <tbody>\n",
       "    <tr>\n",
       "      <th>0</th>\n",
       "      <td>0.40</td>\n",
       "      <td>19.01</td>\n",
       "      <td>7.75</td>\n",
       "      <td>4.03</td>\n",
       "      <td>46.31</td>\n",
       "      <td>1.68</td>\n",
       "      <td>0.44</td>\n",
       "      <td>0</td>\n",
       "      <td>1</td>\n",
       "    </tr>\n",
       "    <tr>\n",
       "      <th>1</th>\n",
       "      <td>0.89</td>\n",
       "      <td>20.65</td>\n",
       "      <td>8.19</td>\n",
       "      <td>4.21</td>\n",
       "      <td>43.44</td>\n",
       "      <td>1.91</td>\n",
       "      <td>0.69</td>\n",
       "      <td>0</td>\n",
       "      <td>1</td>\n",
       "    </tr>\n",
       "    <tr>\n",
       "      <th>2</th>\n",
       "      <td>1.78</td>\n",
       "      <td>21.88</td>\n",
       "      <td>9.58</td>\n",
       "      <td>4.58</td>\n",
       "      <td>46.19</td>\n",
       "      <td>3.71</td>\n",
       "      <td>0.72</td>\n",
       "      <td>1</td>\n",
       "      <td>0</td>\n",
       "    </tr>\n",
       "    <tr>\n",
       "      <th>3</th>\n",
       "      <td>5.84</td>\n",
       "      <td>21.40</td>\n",
       "      <td>7.73</td>\n",
       "      <td>5.92</td>\n",
       "      <td>64.12</td>\n",
       "      <td>4.48</td>\n",
       "      <td>1.26</td>\n",
       "      <td>0</td>\n",
       "      <td>1</td>\n",
       "    </tr>\n",
       "    <tr>\n",
       "      <th>4</th>\n",
       "      <td>3.69</td>\n",
       "      <td>19.09</td>\n",
       "      <td>5.12</td>\n",
       "      <td>5.13</td>\n",
       "      <td>62.69</td>\n",
       "      <td>2.29</td>\n",
       "      <td>0.28</td>\n",
       "      <td>0</td>\n",
       "      <td>1</td>\n",
       "    </tr>\n",
       "  </tbody>\n",
       "</table>\n",
       "</div>"
      ],
      "text/plain": [
       "   Frost_pt  Temp_MAX  Temp_MIN  Specific_Hum  Relative_Hum  Winds_Max   \n",
       "0      0.40     19.01      7.75          4.03         46.31       1.68  \\\n",
       "1      0.89     20.65      8.19          4.21         43.44       1.91   \n",
       "2      1.78     21.88      9.58          4.58         46.19       3.71   \n",
       "3      5.84     21.40      7.73          5.92         64.12       4.48   \n",
       "4      3.69     19.09      5.12          5.13         62.69       2.29   \n",
       "\n",
       "   Winds_Min  RainY0  RainN0  \n",
       "0       0.44       0       1  \n",
       "1       0.69       0       1  \n",
       "2       0.72       1       0  \n",
       "3       1.26       0       1  \n",
       "4       0.28       0       1  "
      ]
     },
     "execution_count": 3,
     "metadata": {},
     "output_type": "execute_result"
    }
   ],
   "source": [
    "col_names = ['Frost_pt','Temp_MAX','Temp_MIN','Specific_Hum','Relative_Hum','Winds_Max','Winds_Min','RainY0','RainN0']\n",
    "dataset=pd.read_csv(\"D:/data/tan/train_ANN1.csv\",header=None,names=col_names)\n",
    "dataset.head(5)  "
   ]
  },
  {
   "cell_type": "code",
   "execution_count": 4,
   "id": "3537aa07",
   "metadata": {},
   "outputs": [],
   "source": [
    "y = dataset.RainY0\n",
    "X = dataset.iloc[:, 0:7].values  "
   ]
  },
  {
   "cell_type": "code",
   "execution_count": 5,
   "id": "c39e0744",
   "metadata": {},
   "outputs": [],
   "source": [
    "#x"
   ]
  },
  {
   "cell_type": "code",
   "execution_count": 6,
   "id": "8dd97553",
   "metadata": {},
   "outputs": [],
   "source": [
    "#y"
   ]
  },
  {
   "cell_type": "code",
   "execution_count": 7,
   "id": "98c7fbeb",
   "metadata": {},
   "outputs": [
    {
     "data": {
      "text/plain": [
       "array([[ 0.4 , 19.01,  7.75, ..., 46.31,  1.68,  0.44],\n",
       "       [ 0.89, 20.65,  8.19, ..., 43.44,  1.91,  0.69],\n",
       "       [ 1.78, 21.88,  9.58, ..., 46.19,  3.71,  0.72],\n",
       "       ...,\n",
       "       [ 8.3 , 18.55,  9.25, ..., 72.88,  1.78,  0.2 ],\n",
       "       [ 5.81, 20.12,  7.72, ..., 67.69,  1.77,  0.58],\n",
       "       [ 5.13, 20.74,  8.46, ..., 60.31,  2.2 ,  0.89]])"
      ]
     },
     "execution_count": 7,
     "metadata": {},
     "output_type": "execute_result"
    }
   ],
   "source": [
    "observations = np.array(X)\n",
    "observations"
   ]
  },
  {
   "cell_type": "code",
   "execution_count": 8,
   "id": "329e24de",
   "metadata": {},
   "outputs": [],
   "source": [
    "rain_states = np.array(y)"
   ]
  },
  {
   "cell_type": "code",
   "execution_count": 9,
   "id": "1a7ebff0",
   "metadata": {},
   "outputs": [],
   "source": [
    "#rain_states"
   ]
  },
  {
   "cell_type": "code",
   "execution_count": 10,
   "id": "53969626",
   "metadata": {},
   "outputs": [],
   "source": [
    "# Split the data into train and test sets\n",
    "X_train, X_test, y_train, y_test = train_test_split(observations, rain_states, test_size=0.10, random_state=149)"
   ]
  },
  {
   "cell_type": "code",
   "execution_count": 11,
   "id": "f341c4d8",
   "metadata": {},
   "outputs": [],
   "source": [
    "#X_train"
   ]
  },
  {
   "cell_type": "code",
   "execution_count": 12,
   "id": "1d7ee7af",
   "metadata": {},
   "outputs": [],
   "source": [
    "# Create a Gaussian HMM model\n",
    "model = hmm.GaussianHMM(n_components=2)"
   ]
  },
  {
   "cell_type": "code",
   "execution_count": 13,
   "id": "cb7b9c87",
   "metadata": {},
   "outputs": [
    {
     "data": {
      "text/html": [
       "<style>#sk-container-id-1 {color: black;background-color: white;}#sk-container-id-1 pre{padding: 0;}#sk-container-id-1 div.sk-toggleable {background-color: white;}#sk-container-id-1 label.sk-toggleable__label {cursor: pointer;display: block;width: 100%;margin-bottom: 0;padding: 0.3em;box-sizing: border-box;text-align: center;}#sk-container-id-1 label.sk-toggleable__label-arrow:before {content: \"▸\";float: left;margin-right: 0.25em;color: #696969;}#sk-container-id-1 label.sk-toggleable__label-arrow:hover:before {color: black;}#sk-container-id-1 div.sk-estimator:hover label.sk-toggleable__label-arrow:before {color: black;}#sk-container-id-1 div.sk-toggleable__content {max-height: 0;max-width: 0;overflow: hidden;text-align: left;background-color: #f0f8ff;}#sk-container-id-1 div.sk-toggleable__content pre {margin: 0.2em;color: black;border-radius: 0.25em;background-color: #f0f8ff;}#sk-container-id-1 input.sk-toggleable__control:checked~div.sk-toggleable__content {max-height: 200px;max-width: 100%;overflow: auto;}#sk-container-id-1 input.sk-toggleable__control:checked~label.sk-toggleable__label-arrow:before {content: \"▾\";}#sk-container-id-1 div.sk-estimator input.sk-toggleable__control:checked~label.sk-toggleable__label {background-color: #d4ebff;}#sk-container-id-1 div.sk-label input.sk-toggleable__control:checked~label.sk-toggleable__label {background-color: #d4ebff;}#sk-container-id-1 input.sk-hidden--visually {border: 0;clip: rect(1px 1px 1px 1px);clip: rect(1px, 1px, 1px, 1px);height: 1px;margin: -1px;overflow: hidden;padding: 0;position: absolute;width: 1px;}#sk-container-id-1 div.sk-estimator {font-family: monospace;background-color: #f0f8ff;border: 1px dotted black;border-radius: 0.25em;box-sizing: border-box;margin-bottom: 0.5em;}#sk-container-id-1 div.sk-estimator:hover {background-color: #d4ebff;}#sk-container-id-1 div.sk-parallel-item::after {content: \"\";width: 100%;border-bottom: 1px solid gray;flex-grow: 1;}#sk-container-id-1 div.sk-label:hover label.sk-toggleable__label {background-color: #d4ebff;}#sk-container-id-1 div.sk-serial::before {content: \"\";position: absolute;border-left: 1px solid gray;box-sizing: border-box;top: 0;bottom: 0;left: 50%;z-index: 0;}#sk-container-id-1 div.sk-serial {display: flex;flex-direction: column;align-items: center;background-color: white;padding-right: 0.2em;padding-left: 0.2em;position: relative;}#sk-container-id-1 div.sk-item {position: relative;z-index: 1;}#sk-container-id-1 div.sk-parallel {display: flex;align-items: stretch;justify-content: center;background-color: white;position: relative;}#sk-container-id-1 div.sk-item::before, #sk-container-id-1 div.sk-parallel-item::before {content: \"\";position: absolute;border-left: 1px solid gray;box-sizing: border-box;top: 0;bottom: 0;left: 50%;z-index: -1;}#sk-container-id-1 div.sk-parallel-item {display: flex;flex-direction: column;z-index: 1;position: relative;background-color: white;}#sk-container-id-1 div.sk-parallel-item:first-child::after {align-self: flex-end;width: 50%;}#sk-container-id-1 div.sk-parallel-item:last-child::after {align-self: flex-start;width: 50%;}#sk-container-id-1 div.sk-parallel-item:only-child::after {width: 0;}#sk-container-id-1 div.sk-dashed-wrapped {border: 1px dashed gray;margin: 0 0.4em 0.5em 0.4em;box-sizing: border-box;padding-bottom: 0.4em;background-color: white;}#sk-container-id-1 div.sk-label label {font-family: monospace;font-weight: bold;display: inline-block;line-height: 1.2em;}#sk-container-id-1 div.sk-label-container {text-align: center;}#sk-container-id-1 div.sk-container {/* jupyter's `normalize.less` sets `[hidden] { display: none; }` but bootstrap.min.css set `[hidden] { display: none !important; }` so we also need the `!important` here to be able to override the default hidden behavior on the sphinx rendered scikit-learn.org. See: https://github.com/scikit-learn/scikit-learn/issues/21755 */display: inline-block !important;position: relative;}#sk-container-id-1 div.sk-text-repr-fallback {display: none;}</style><div id=\"sk-container-id-1\" class=\"sk-top-container\"><div class=\"sk-text-repr-fallback\"><pre>GaussianHMM(n_components=2)</pre><b>In a Jupyter environment, please rerun this cell to show the HTML representation or trust the notebook. <br />On GitHub, the HTML representation is unable to render, please try loading this page with nbviewer.org.</b></div><div class=\"sk-container\" hidden><div class=\"sk-item\"><div class=\"sk-estimator sk-toggleable\"><input class=\"sk-toggleable__control sk-hidden--visually\" id=\"sk-estimator-id-1\" type=\"checkbox\" checked><label for=\"sk-estimator-id-1\" class=\"sk-toggleable__label sk-toggleable__label-arrow\">GaussianHMM</label><div class=\"sk-toggleable__content\"><pre>GaussianHMM(n_components=2)</pre></div></div></div></div></div>"
      ],
      "text/plain": [
       "GaussianHMM(n_components=2)"
      ]
     },
     "execution_count": 13,
     "metadata": {},
     "output_type": "execute_result"
    }
   ],
   "source": [
    "# Train the model using the training data\n",
    "model.fit(X_train)"
   ]
  },
  {
   "cell_type": "code",
   "execution_count": 14,
   "id": "233a5e5e",
   "metadata": {},
   "outputs": [],
   "source": [
    "# Estimate rain for the test set\n",
    "predicted_rain_states = model.predict(X_test)"
   ]
  },
  {
   "cell_type": "code",
   "execution_count": 15,
   "id": "db6913a2",
   "metadata": {},
   "outputs": [
    {
     "data": {
      "text/plain": [
       "array([1, 0, 0, 1, 1, 0, 1, 0, 0, 0, 0, 1, 1, 0, 0, 0, 0, 0, 0, 0, 0, 1,\n",
       "       1, 0, 0, 0, 1, 0, 0, 1, 0, 0, 0, 0, 0, 0, 1, 0, 0, 0, 0, 0, 0, 0,\n",
       "       0, 0, 1, 0, 0, 1, 0, 1, 1, 0, 0, 0, 1, 0, 0, 0, 1, 0, 0, 1, 1, 1,\n",
       "       0, 0, 1, 0, 0, 1, 1, 0, 0, 0, 0, 0, 0, 0, 1, 0, 1, 0, 0, 0, 0, 0,\n",
       "       0, 0, 0, 0, 0, 0, 0, 0, 1, 1, 0, 0, 0, 0, 1, 0, 0, 0, 0, 0, 1, 0,\n",
       "       1, 0, 0, 1, 1, 1, 1, 1, 0, 0, 0, 1, 0, 0, 0, 0, 0, 1, 0, 1, 0, 1,\n",
       "       0, 0, 0, 1, 0, 0, 0, 0, 0, 0, 0, 0, 0, 0, 0, 1, 1, 1, 0, 0, 0, 0,\n",
       "       0, 0, 0, 0, 0, 0, 0, 0, 1, 1, 0, 0, 1, 1, 0, 0, 1, 1, 0, 0, 0, 0,\n",
       "       1, 1, 1, 1, 1, 0, 1, 1, 0, 0, 0, 0, 0, 0, 0, 0, 1, 0, 1, 0, 0, 0,\n",
       "       0, 0, 0, 0, 0, 0, 0, 1, 0, 0, 1, 1, 0, 0, 0, 1, 0, 0, 0, 1, 1, 0,\n",
       "       0, 0, 1, 0, 0, 0, 0, 0, 0, 0, 0, 0, 0, 0, 0, 1, 0, 0, 0, 0, 0, 0,\n",
       "       0, 0, 1, 1, 0, 0, 0, 0, 0, 1, 0, 0, 0, 0, 0, 0, 1, 0, 0, 0, 0, 0,\n",
       "       0, 0, 0, 0, 0, 0, 0, 0, 1, 0, 0, 1, 0, 0, 0, 1, 1, 1, 1, 0, 1, 0,\n",
       "       0, 0, 1, 1, 0, 0, 0, 0, 0, 0, 0, 0, 0, 0, 1, 0, 1, 0, 0, 0, 0, 1,\n",
       "       1, 0, 0, 0, 0, 1, 0, 0, 0, 0, 0, 0, 0, 0, 0, 1, 0, 1, 0, 0, 1, 0,\n",
       "       0, 0, 0, 0, 0, 0, 0, 1, 0, 1, 1, 0, 0, 0, 0, 0, 0, 0, 0, 1, 1, 0,\n",
       "       0, 0, 0, 1, 0, 0, 1, 1, 0, 1, 0, 0, 0, 0, 0, 0, 1, 0, 1, 0, 1, 0,\n",
       "       0, 0, 0, 0, 0, 0, 0, 1, 1, 0, 0, 0, 0, 1, 0, 0, 0, 0, 0, 0, 0, 0,\n",
       "       0, 0, 0, 0, 1, 0, 0, 0, 0, 0, 1, 0, 0, 1, 1, 0, 0, 1, 0, 0, 0, 0,\n",
       "       0, 0, 0, 0, 0, 1, 1, 1, 1, 0, 1, 1, 0, 1, 0, 0, 0, 1, 1, 0, 0],\n",
       "      dtype=int64)"
      ]
     },
     "execution_count": 15,
     "metadata": {},
     "output_type": "execute_result"
    }
   ],
   "source": [
    "predicted_rain_states"
   ]
  },
  {
   "cell_type": "code",
   "execution_count": 16,
   "id": "0bb9e284",
   "metadata": {},
   "outputs": [],
   "source": [
    "# Compute the confusion matrix\n",
    "confusion_mat = confusion_matrix(y_test, predicted_rain_states)"
   ]
  },
  {
   "cell_type": "code",
   "execution_count": 17,
   "id": "392b7e06",
   "metadata": {},
   "outputs": [
    {
     "name": "stdout",
     "output_type": "stream",
     "text": [
      "Confusion Matrix:\n",
      "[[274  23]\n",
      " [ 49  93]]\n"
     ]
    },
    {
     "data": {
      "text/plain": [
       "Text(0.5, 1.0, 'Naive-bayes (Model-HM-0)')"
      ]
     },
     "execution_count": 17,
     "metadata": {},
     "output_type": "execute_result"
    },
    {
     "data": {
      "image/png": "[encoded data removed]",
      "text/plain": [
       "<Figure size 640x480 with 2 Axes>"
      ]
     },
     "metadata": {},
     "output_type": "display_data"
    }
   ],
   "source": [
    "# Print the confusion matrix\n",
    "print(\"Confusion Matrix:\")\n",
    "print(confusion_mat)\n",
    "\n",
    "# Labels check karne hai\n",
    "import numpy as np\n",
    "import matplotlib.pyplot as plt\n",
    "import seaborn as sns\n",
    "labels = [\"Rain\", \"Not Rain\"]\n",
    "cm=confusion_matrix(y_test, predicted_rain_states)\n",
    "sns.heatmap(pd.DataFrame(cm),annot=True,cmap=\"YlGnBu\",fmt='g')\n",
    "#disp = ConfusionMatrixDisplay(confusion_matrix=cm, display_labels=labels)\n",
    "#disp.plot();\n",
    "plt.title('Naive-bayes (Model-HM-0)')\n",
    "#"
   ]
  },
  {
   "cell_type": "code",
   "execution_count": 18,
   "id": "6f33e6a9",
   "metadata": {},
   "outputs": [
    {
     "name": "stdout",
     "output_type": "stream",
     "text": [
      "Classification Report:\n",
      "              precision    recall  f1-score   support\n",
      "\n",
      "           0       0.85      0.92      0.88       297\n",
      "           1       0.80      0.65      0.72       142\n",
      "\n",
      "    accuracy                           0.84       439\n",
      "   macro avg       0.83      0.79      0.80       439\n",
      "weighted avg       0.83      0.84      0.83       439\n",
      "\n"
     ]
    }
   ],
   "source": [
    "# Compute classification metrics\n",
    "report = classification_report(y_test, predicted_rain_states)\n",
    "# Print the classification report\n",
    "print(\"Classification Report:\")\n",
    "print(report)"
   ]
  },
  {
   "cell_type": "code",
   "execution_count": 19,
   "id": "6f48b723",
   "metadata": {},
   "outputs": [],
   "source": [
    "rain_probabilities = model.predict_proba(X_test)[:, 1]"
   ]
  },
  {
   "cell_type": "code",
   "execution_count": 20,
   "id": "a7a11291",
   "metadata": {},
   "outputs": [],
   "source": [
    "# Compute the false positive rate, true positive rate, and threshold values for the ROC curve\n",
    "fpr, tpr, thresholds = roc_curve(y_test, rain_probabilities)"
   ]
  },
  {
   "cell_type": "code",
   "execution_count": 21,
   "id": "e72ab573",
   "metadata": {},
   "outputs": [],
   "source": [
    "# Compute the area under the ROC curve\n",
    "roc_auc = auc(fpr, tpr)"
   ]
  },
  {
   "cell_type": "code",
   "execution_count": 22,
   "id": "9894e532",
   "metadata": {},
   "outputs": [
    {
     "data": {
      "image/png": "[encoded data removed]",
      "text/plain": [
       "<Figure size 640x480 with 1 Axes>"
      ]
     },
     "metadata": {},
     "output_type": "display_data"
    }
   ],
   "source": [
    "# Plot the ROC curve\n",
    "plt.figure()\n",
    "plt.plot(fpr, tpr, color='darkorange', lw=2, label='ROC curve (area = %0.2f)' % roc_auc)\n",
    "plt.plot([0, 1], [0, 1], color='navy', lw=2, linestyle='--')\n",
    "plt.xlim([0.0, 1.0])\n",
    "plt.ylim([0.0, 1.05])\n",
    "plt.xlabel('False Positive Rate')\n",
    "plt.ylabel('True Positive Rate')\n",
    "plt.title('Receiver Operating Characteristic (Model-HM-0)')\n",
    "plt.legend(loc=\"lower right\")\n",
    "plt.show()"
   ]
  },
  {
   "cell_type": "code",
   "execution_count": 23,
   "id": "65c62212",
   "metadata": {},
   "outputs": [
    {
     "name": "stdout",
     "output_type": "stream",
     "text": [
      "Jan\n",
      "    Actual  Predicted\n",
      "0        0          1\n",
      "1        0          0\n",
      "2        0          0\n",
      "3        0          0\n",
      "4        1          0\n",
      "5        1          0\n",
      "6        0          0\n",
      "7        1          0\n",
      "8        1          0\n",
      "9        1          0\n",
      "10       1          0\n",
      "11       0          0\n",
      "12       0          0\n",
      "13       0          0\n",
      "14       0          0\n",
      "15       0          0\n",
      "16       0          0\n",
      "17       0          0\n",
      "18       0          0\n",
      "19       1          0\n",
      "20       0          0\n",
      "21       1          0\n",
      "22       1          0\n",
      "23       1          0\n",
      "24       1          0\n",
      "25       0          0\n",
      "26       0          0\n",
      "27       0          0\n",
      "28       0          0\n",
      "29       0          0\n",
      "30       0          0\n"
     ]
    }
   ],
   "source": [
    "#Jan\n",
    "col_names1 = ['Frost_pt','Temp_MAX','Temp_MIN','Specific_Hum','Relative_Hum','Winds_Max','Winds_Min','Rain','cDay','Rain1','Rain2','Rain3','Rain4','Rain5']\n",
    "feature_cols=['Frost_pt','Temp_MAX','Temp_MIN','Specific_Hum','Relative_Hum','Winds_Max','Winds_Min']\n",
    "df01=pd.read_csv(\"D:/data/tan/i01J.csv\" ,header=None,names=col_names1)\n",
    "X01 = df01[feature_cols]\n",
    "X01 = df01.iloc[:, 0:7].values  \n",
    "y_pred = model.predict(X01)  \n",
    "\n",
    "d={\n",
    "'Actual':df01.Rain,\n",
    "'Predicted':y_pred}\n",
    "df1 = pd.DataFrame(d)\n",
    "print(\"Jan\")\n",
    "print(df1)\n"
   ]
  },
  {
   "cell_type": "code",
   "execution_count": 24,
   "id": "c41fb2f3",
   "metadata": {},
   "outputs": [
    {
     "name": "stdout",
     "output_type": "stream",
     "text": [
      "Feb\n",
      "    Actual  Predicted\n",
      "0        0          1\n",
      "1        0          0\n",
      "2        1          0\n",
      "3        1          0\n",
      "4        0          0\n",
      "5        0          0\n",
      "6        0          0\n",
      "7        1          0\n",
      "8        1          0\n",
      "9        0          0\n",
      "10       0          0\n",
      "11       0          0\n",
      "12       0          0\n",
      "13       0          0\n",
      "14       0          0\n",
      "15       0          0\n",
      "16       0          0\n",
      "17       0          0\n",
      "18       0          0\n",
      "19       0          0\n",
      "20       0          0\n",
      "21       0          0\n",
      "22       0          0\n",
      "23       0          0\n",
      "24       0          0\n",
      "25       1          0\n",
      "26       0          0\n",
      "27       0          0\n"
     ]
    }
   ],
   "source": [
    "#Feb\n",
    "col_names1 = ['Frost_pt','Temp_MAX','Temp_MIN','Specific_Hum','Relative_Hum','Winds_Max','Winds_Min','Rain','cDay','Rain1','Rain2','Rain3','Rain4','Rain5']\n",
    "feature_cols=['Frost_pt','Temp_MAX','Temp_MIN','Specific_Hum','Relative_Hum','Winds_Max','Winds_Min']\n",
    "df01=pd.read_csv(\"D:/data/tan/i02F.csv\" ,header=None,names=col_names1)\n",
    "X01 = df01[feature_cols]\n",
    "X01 = df01.iloc[:, 0:7].values  \n",
    "y_pred = model.predict(X01)  \n",
    "\n",
    "d={\n",
    "'Actual':df01.Rain,\n",
    "'Predicted':y_pred}\n",
    "df1 = pd.DataFrame(d)\n",
    "print(\"Feb\")\n",
    "print(df1)"
   ]
  },
  {
   "cell_type": "code",
   "execution_count": 25,
   "id": "7d482caa",
   "metadata": {},
   "outputs": [
    {
     "name": "stdout",
     "output_type": "stream",
     "text": [
      "Mar\n",
      "    Actual  Predicted\n",
      "0        0          1\n",
      "1        0          0\n",
      "2        0          0\n",
      "3        0          0\n",
      "4        0          0\n",
      "5        0          0\n",
      "6        0          0\n",
      "7        0          0\n",
      "8        0          0\n",
      "9        0          0\n",
      "10       0          0\n",
      "11       0          0\n",
      "12       0          0\n",
      "13       0          0\n",
      "14       0          0\n",
      "15       0          0\n",
      "16       0          0\n",
      "17       0          0\n",
      "18       0          0\n",
      "19       0          0\n",
      "20       0          0\n",
      "21       0          0\n",
      "22       0          0\n",
      "23       0          0\n",
      "24       0          0\n",
      "25       0          0\n",
      "26       0          0\n",
      "27       0          0\n",
      "28       0          0\n",
      "29       0          0\n",
      "30       0          0\n"
     ]
    }
   ],
   "source": [
    "#Mar\n",
    "col_names1 = ['Frost_pt','Temp_MAX','Temp_MIN','Specific_Hum','Relative_Hum','Winds_Max','Winds_Min','Rain','cDay','Rain1','Rain2','Rain3','Rain4','Rain5']\n",
    "feature_cols=['Frost_pt','Temp_MAX','Temp_MIN','Specific_Hum','Relative_Hum','Winds_Max','Winds_Min']\n",
    "df01=pd.read_csv(\"D:/data/tan/i03M.csv\" ,header=None,names=col_names1)\n",
    "X01 = df01[feature_cols]\n",
    "X01 = df01.iloc[:, 0:7].values  \n",
    "y_pred = model.predict(X01)  \n",
    "\n",
    "d={\n",
    "'Actual':df01.Rain,\n",
    "'Predicted':y_pred}\n",
    "df1 = pd.DataFrame(d)\n",
    "print(\"Mar\")\n",
    "print(df1)"
   ]
  },
  {
   "cell_type": "code",
   "execution_count": 26,
   "id": "141104b9",
   "metadata": {},
   "outputs": [
    {
     "name": "stdout",
     "output_type": "stream",
     "text": [
      "Apr\n",
      "    Actual  Predicted\n",
      "0        0          1\n",
      "1        0          0\n",
      "2        0          0\n",
      "3        0          0\n",
      "4        0          0\n",
      "5        0          0\n",
      "6        0          0\n",
      "7        0          0\n",
      "8        0          0\n",
      "9        0          0\n",
      "10       0          0\n",
      "11       0          0\n",
      "12       0          0\n",
      "13       0          0\n",
      "14       0          0\n",
      "15       0          0\n",
      "16       0          0\n",
      "17       0          0\n",
      "18       0          0\n",
      "19       0          0\n",
      "20       0          0\n",
      "21       0          0\n",
      "22       0          0\n",
      "23       0          0\n",
      "24       0          0\n",
      "25       0          0\n",
      "26       0          0\n",
      "27       0          0\n",
      "28       0          0\n",
      "29       0          0\n"
     ]
    }
   ],
   "source": [
    "#Apr\n",
    "col_names1 = ['Frost_pt','Temp_MAX','Temp_MIN','Specific_Hum','Relative_Hum','Winds_Max','Winds_Min','Rain','cDay','Rain1','Rain2','Rain3','Rain4','Rain5']\n",
    "feature_cols=['Frost_pt','Temp_MAX','Temp_MIN','Specific_Hum','Relative_Hum','Winds_Max','Winds_Min']\n",
    "df01=pd.read_csv(\"D:/data/tan/i04A.csv\" ,header=None,names=col_names1)\n",
    "X01 = df01[feature_cols]\n",
    "X01 = df01.iloc[:, 0:7].values  \n",
    "y_pred = model.predict(X01)  \n",
    "\n",
    "d={\n",
    "'Actual':df01.Rain,\n",
    "'Predicted':y_pred}\n",
    "df1 = pd.DataFrame(d)\n",
    "print(\"Apr\")\n",
    "print(df1)"
   ]
  },
  {
   "cell_type": "code",
   "execution_count": 27,
   "id": "e1ec9fe2",
   "metadata": {},
   "outputs": [
    {
     "name": "stdout",
     "output_type": "stream",
     "text": [
      "May\n",
      "    Actual  Predicted\n",
      "0        0          1\n",
      "1        0          0\n",
      "2        0          0\n",
      "3        1          0\n",
      "4        1          0\n",
      "5        0          0\n",
      "6        0          0\n",
      "7        1          0\n",
      "8        1          0\n",
      "9        1          0\n",
      "10       1          0\n",
      "11       1          0\n",
      "12       1          0\n",
      "13       0          0\n",
      "14       0          0\n",
      "15       0          0\n",
      "16       1          0\n",
      "17       0          0\n",
      "18       0          0\n",
      "19       1          0\n",
      "20       1          0\n",
      "21       1          0\n",
      "22       1          0\n",
      "23       1          0\n",
      "24       0          0\n",
      "25       0          0\n",
      "26       0          0\n",
      "27       1          0\n",
      "28       1          0\n",
      "29       0          0\n",
      "30       0          0\n"
     ]
    }
   ],
   "source": [
    "#May\n",
    "col_names1 = ['Frost_pt','Temp_MAX','Temp_MIN','Specific_Hum','Relative_Hum','Winds_Max','Winds_Min','Rain','cDay','Rain1','Rain2','Rain3','Rain4','Rain5']\n",
    "feature_cols=['Frost_pt','Temp_MAX','Temp_MIN','Specific_Hum','Relative_Hum','Winds_Max','Winds_Min']\n",
    "df01=pd.read_csv(\"D:/data/tan/i05M.csv\" ,header=None,names=col_names1)\n",
    "X01 = df01[feature_cols]\n",
    "X01 = df01.iloc[:, 0:7].values  \n",
    "y_pred = model.predict(X01)  \n",
    "\n",
    "d={\n",
    "'Actual':df01.Rain,\n",
    "'Predicted':y_pred}\n",
    "df1 = pd.DataFrame(d)\n",
    "print(\"May\")\n",
    "print(df1)"
   ]
  },
  {
   "cell_type": "code",
   "execution_count": 28,
   "id": "14563fc3",
   "metadata": {},
   "outputs": [
    {
     "name": "stdout",
     "output_type": "stream",
     "text": [
      "Jun\n",
      "    Actual  Predicted\n",
      "0        0          1\n",
      "1        0          0\n",
      "2        0          0\n",
      "3        0          0\n",
      "4        0          0\n",
      "5        0          0\n",
      "6        0          0\n",
      "7        0          0\n",
      "8        0          0\n",
      "9        0          0\n",
      "10       0          0\n",
      "11       1          0\n",
      "12       0          0\n",
      "13       0          0\n",
      "14       0          0\n",
      "15       1          0\n",
      "16       1          0\n",
      "17       1          0\n",
      "18       1          0\n",
      "19       1          0\n",
      "20       1          0\n",
      "21       0          0\n",
      "22       1          0\n",
      "23       0          0\n",
      "24       0          0\n",
      "25       1          0\n",
      "26       1          1\n",
      "27       1          1\n",
      "28       1          1\n",
      "29       1          1\n"
     ]
    }
   ],
   "source": [
    "#Jun\n",
    "col_names1 = ['Frost_pt','Temp_MAX','Temp_MIN','Specific_Hum','Relative_Hum','Winds_Max','Winds_Min','Rain','cDay','Rain1','Rain2','Rain3','Rain4','Rain5']\n",
    "feature_cols=['Frost_pt','Temp_MAX','Temp_MIN','Specific_Hum','Relative_Hum','Winds_Max','Winds_Min']\n",
    "df01=pd.read_csv(\"D:/data/tan/i06J.csv\" ,header=None,names=col_names1)\n",
    "X01 = df01[feature_cols]\n",
    "X01 = df01.iloc[:, 0:7].values  \n",
    "y_pred = model.predict(X01)  \n",
    "\n",
    "d={\n",
    "'Actual':df01.Rain,\n",
    "'Predicted':y_pred}\n",
    "df1 = pd.DataFrame(d)\n",
    "print(\"Jun\")\n",
    "print(df1)"
   ]
  },
  {
   "cell_type": "code",
   "execution_count": 29,
   "id": "c38f0d14",
   "metadata": {},
   "outputs": [
    {
     "name": "stdout",
     "output_type": "stream",
     "text": [
      "Jul\n",
      "    Actual  Predicted\n",
      "0        1          1\n",
      "1        1          1\n",
      "2        1          1\n",
      "3        0          1\n",
      "4        1          1\n",
      "5        1          1\n",
      "6        0          1\n",
      "7        1          1\n",
      "8        1          1\n",
      "9        1          1\n",
      "10       1          1\n",
      "11       1          1\n",
      "12       1          1\n",
      "13       1          1\n",
      "14       0          1\n",
      "15       1          1\n",
      "16       1          1\n",
      "17       1          1\n",
      "18       1          1\n",
      "19       1          1\n",
      "20       1          1\n",
      "21       1          1\n",
      "22       1          1\n",
      "23       1          1\n",
      "24       1          1\n",
      "25       1          1\n",
      "26       1          1\n",
      "27       1          1\n",
      "28       1          1\n",
      "29       1          1\n",
      "30       1          1\n"
     ]
    }
   ],
   "source": [
    "#Jul\n",
    "col_names1 = ['Frost_pt','Temp_MAX','Temp_MIN','Specific_Hum','Relative_Hum','Winds_Max','Winds_Min','Rain','cDay','Rain1','Rain2','Rain3','Rain4','Rain5']\n",
    "feature_cols=['Frost_pt','Temp_MAX','Temp_MIN','Specific_Hum','Relative_Hum','Winds_Max','Winds_Min']\n",
    "df01=pd.read_csv(\"D:/data/tan/i07J.csv\" ,header=None,names=col_names1)\n",
    "X01 = df01[feature_cols]\n",
    "X01 = df01.iloc[:, 0:7].values  \n",
    "y_pred = model.predict(X01)  \n",
    "\n",
    "d={\n",
    "'Actual':df01.Rain,\n",
    "'Predicted':y_pred}\n",
    "df1 = pd.DataFrame(d)\n",
    "print(\"Jul\")\n",
    "print(df1)"
   ]
  },
  {
   "cell_type": "code",
   "execution_count": 30,
   "id": "d6abee0d",
   "metadata": {},
   "outputs": [
    {
     "name": "stdout",
     "output_type": "stream",
     "text": [
      "Aug\n",
      "    Actual  Predicted\n",
      "0        1          1\n",
      "1        1          1\n",
      "2        1          1\n",
      "3        1          1\n",
      "4        1          1\n",
      "5        0          1\n",
      "6        1          1\n",
      "7        0          1\n",
      "8        0          1\n",
      "9        1          1\n",
      "10       1          1\n",
      "11       0          1\n",
      "12       0          1\n",
      "13       1          1\n",
      "14       1          1\n",
      "15       0          1\n",
      "16       0          1\n",
      "17       0          1\n",
      "18       1          1\n",
      "19       1          1\n",
      "20       0          1\n",
      "21       1          1\n",
      "22       1          1\n",
      "23       1          1\n",
      "24       1          1\n",
      "25       0          1\n",
      "26       0          1\n",
      "27       1          1\n",
      "28       1          1\n",
      "29       1          1\n",
      "30       0          1\n"
     ]
    }
   ],
   "source": [
    "#Aug\n",
    "col_names1 = ['Frost_pt','Temp_MAX','Temp_MIN','Specific_Hum','Relative_Hum','Winds_Max','Winds_Min','Rain','cDay','Rain1','Rain2','Rain3','Rain4','Rain5']\n",
    "feature_cols=['Frost_pt','Temp_MAX','Temp_MIN','Specific_Hum','Relative_Hum','Winds_Max','Winds_Min']\n",
    "df01=pd.read_csv(\"D:/data/tan/i08A.csv\" ,header=None,names=col_names1)\n",
    "X01 = df01[feature_cols]\n",
    "X01 = df01.iloc[:, 0:7].values  \n",
    "y_pred = model.predict(X01)  \n",
    "\n",
    "d={\n",
    "'Actual':df01.Rain,\n",
    "'Predicted':y_pred}\n",
    "df1 = pd.DataFrame(d)\n",
    "print(\"Aug\")\n",
    "print(df1)"
   ]
  },
  {
   "cell_type": "code",
   "execution_count": 31,
   "id": "bdf6120d",
   "metadata": {},
   "outputs": [
    {
     "name": "stdout",
     "output_type": "stream",
     "text": [
      "spt\n",
      "    Actual  Predicted\n",
      "0        1          1\n",
      "1        1          1\n",
      "2        0          1\n",
      "3        0          1\n",
      "4        0          1\n",
      "5        0          1\n",
      "6        1          1\n",
      "7        1          1\n",
      "8        1          1\n",
      "9        1          1\n",
      "10       1          1\n",
      "11       1          1\n",
      "12       1          1\n",
      "13       1          1\n",
      "14       1          1\n",
      "15       1          1\n",
      "16       1          1\n",
      "17       1          1\n",
      "18       1          1\n",
      "19       1          1\n",
      "20       1          1\n",
      "21       1          1\n",
      "22       1          1\n",
      "23       1          1\n",
      "24       1          1\n",
      "25       1          1\n",
      "26       0          1\n",
      "27       0          1\n",
      "28       0          1\n",
      "29       0          1\n"
     ]
    }
   ],
   "source": [
    "#spt\n",
    "col_names1 = ['Frost_pt','Temp_MAX','Temp_MIN','Specific_Hum','Relative_Hum','Winds_Max','Winds_Min','Rain','cDay','Rain1','Rain2','Rain3','Rain4','Rain5']\n",
    "feature_cols=['Frost_pt','Temp_MAX','Temp_MIN','Specific_Hum','Relative_Hum','Winds_Max','Winds_Min']\n",
    "df01=pd.read_csv(\"D:/data/tan/i09S.csv\" ,header=None,names=col_names1)\n",
    "X01 = df01[feature_cols]\n",
    "X01 = df01.iloc[:, 0:7].values  \n",
    "y_pred = model.predict(X01)  \n",
    "\n",
    "d={\n",
    "'Actual':df01.Rain,\n",
    "'Predicted':y_pred}\n",
    "df1 = pd.DataFrame(d)\n",
    "print(\"spt\")\n",
    "print(df1)"
   ]
  },
  {
   "cell_type": "code",
   "execution_count": 32,
   "id": "bd92ff3d",
   "metadata": {},
   "outputs": [
    {
     "name": "stdout",
     "output_type": "stream",
     "text": [
      "OCT\n",
      "    Actual  Predicted\n",
      "0        1          1\n",
      "1        1          1\n",
      "2        0          1\n",
      "3        0          1\n",
      "4        1          1\n",
      "5        1          1\n",
      "6        1          1\n",
      "7        1          1\n",
      "8        1          1\n",
      "9        1          1\n",
      "10       1          1\n",
      "11       1          1\n",
      "12       0          1\n",
      "13       0          1\n",
      "14       0          0\n",
      "15       0          0\n",
      "16       0          0\n",
      "17       0          0\n",
      "18       0          0\n",
      "19       0          0\n",
      "20       0          0\n",
      "21       0          0\n",
      "22       0          0\n",
      "23       0          0\n",
      "24       0          0\n",
      "25       0          0\n",
      "26       0          0\n",
      "27       0          0\n",
      "28       0          0\n",
      "29       0          0\n",
      "30       0          0\n"
     ]
    }
   ],
   "source": [
    "#OCT\n",
    "col_names1 = ['Frost_pt','Temp_MAX','Temp_MIN','Specific_Hum','Relative_Hum','Winds_Max','Winds_Min','Rain','cDay','Rain1','Rain2','Rain3','Rain4','Rain5']\n",
    "feature_cols=['Frost_pt','Temp_MAX','Temp_MIN','Specific_Hum','Relative_Hum','Winds_Max','Winds_Min']\n",
    "df01=pd.read_csv(\"D:/data/tan/i10O.csv\" ,header=None,names=col_names1)\n",
    "X01 = df01[feature_cols]\n",
    "X01 = df01.iloc[:, 0:7].values  \n",
    "y_pred = model.predict(X01)  \n",
    "\n",
    "d={\n",
    "'Actual':df01.Rain,\n",
    "'Predicted':y_pred}\n",
    "df1 = pd.DataFrame(d)\n",
    "print(\"OCT\")\n",
    "print(df1)"
   ]
  },
  {
   "cell_type": "code",
   "execution_count": 33,
   "id": "5c10c315",
   "metadata": {},
   "outputs": [
    {
     "name": "stdout",
     "output_type": "stream",
     "text": [
      "Nov\n",
      "    Actual  Predicted\n",
      "0        0          1\n",
      "1        0          0\n",
      "2        0          0\n",
      "3        0          0\n",
      "4        0          0\n",
      "5        0          0\n",
      "6        0          0\n",
      "7        0          0\n",
      "8        0          0\n",
      "9        0          0\n",
      "10       0          0\n",
      "11       0          0\n",
      "12       0          0\n",
      "13       0          0\n",
      "14       0          0\n",
      "15       0          0\n",
      "16       0          0\n",
      "17       0          0\n",
      "18       0          0\n",
      "19       0          0\n",
      "20       0          0\n",
      "21       0          0\n",
      "22       0          0\n",
      "23       0          0\n",
      "24       0          0\n",
      "25       0          0\n",
      "26       0          0\n",
      "27       0          0\n",
      "28       0          0\n",
      "29       0          0\n"
     ]
    }
   ],
   "source": [
    "#Nov\n",
    "col_names1 = ['Frost_pt','Temp_MAX','Temp_MIN','Specific_Hum','Relative_Hum','Winds_Max','Winds_Min','Rain','cDay','Rain1','Rain2','Rain3','Rain4','Rain5']\n",
    "feature_cols=['Frost_pt','Temp_MAX','Temp_MIN','Specific_Hum','Relative_Hum','Winds_Max','Winds_Min']\n",
    "df01=pd.read_csv(\"D:/data/tan/i11N.csv\" ,header=None,names=col_names1)\n",
    "X01 = df01[feature_cols]\n",
    "X01 = df01.iloc[:, 0:7].values  \n",
    "y_pred = model.predict(X01)  \n",
    "\n",
    "d={\n",
    "'Actual':df01.Rain,\n",
    "'Predicted':y_pred}\n",
    "df1 = pd.DataFrame(d)\n",
    "print(\"Nov\")\n",
    "print(df1)"
   ]
  },
  {
   "cell_type": "code",
   "execution_count": 34,
   "id": "3d777d4e",
   "metadata": {},
   "outputs": [
    {
     "name": "stdout",
     "output_type": "stream",
     "text": [
      "Dec\n",
      "    Actual  Predicted\n",
      "0        0          1\n",
      "1        0          0\n",
      "2        0          0\n",
      "3        0          0\n",
      "4        0          0\n",
      "5        0          0\n",
      "6        0          0\n",
      "7        0          0\n",
      "8        0          0\n",
      "9        0          0\n",
      "10       0          0\n",
      "11       0          0\n",
      "12       0          0\n",
      "13       0          0\n",
      "14       0          0\n",
      "15       0          0\n",
      "16       0          0\n",
      "17       0          0\n",
      "18       0          0\n",
      "19       0          0\n",
      "20       0          0\n",
      "21       0          0\n",
      "22       0          0\n",
      "23       0          0\n",
      "24       0          0\n",
      "25       0          0\n",
      "26       0          0\n",
      "27       0          0\n",
      "28       0          0\n",
      "29       0          0\n",
      "30       0          0\n"
     ]
    }
   ],
   "source": [
    "#Dec\n",
    "col_names1 = ['Frost_pt','Temp_MAX','Temp_MIN','Specific_Hum','Relative_Hum','Winds_Max','Winds_Min','Rain','cDay','Rain1','Rain2','Rain3','Rain4','Rain5']\n",
    "feature_cols=['Frost_pt','Temp_MAX','Temp_MIN','Specific_Hum','Relative_Hum','Winds_Max','Winds_Min']\n",
    "df01=pd.read_csv(\"D:/data/tan/i12D.csv\" ,header=None,names=col_names1)\n",
    "X01 = df01[feature_cols]\n",
    "X01 = df01.iloc[:, 0:7].values  \n",
    "y_pred = model.predict(X01)  \n",
    "\n",
    "d={\n",
    "'Actual':df01.Rain,\n",
    "'Predicted':y_pred}\n",
    "df1 = pd.DataFrame(d)\n",
    "print(\"Dec\")\n",
    "print(df1)"
   ]
  },
  {
   "cell_type": "code",
   "execution_count": null,
   "id": "3b0a905f",
   "metadata": {},
   "outputs": [],
   "source": []
  },
  {
   "cell_type": "code",
   "execution_count": null,
   "id": "0e999668",
   "metadata": {},
   "outputs": [],
   "source": []
  }
 ],
 "metadata": {
  "kernelspec": {
   "display_name": "Python 3 (ipykernel)",
   "language": "python",
   "name": "python3"
  },
  "language_info": {
   "codemirror_mode": {
    "name": "ipython",
    "version": 3
   },
   "file_extension": ".py",
   "mimetype": "text/x-python",
   "name": "python",
   "nbconvert_exporter": "python",
   "pygments_lexer": "ipython3",
   "version": "3.10.9"
  }
 },
 "nbformat": 4,
 "nbformat_minor": 5
}
