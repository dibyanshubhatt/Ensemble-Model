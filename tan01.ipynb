{
 "cells": [
  {
   "cell_type": "code",
   "execution_count": 1,
   "id": "6a6efc8e",
   "metadata": {},
   "outputs": [],
   "source": [
    "#pip install seaborn"
   ]
  },
  {
   "cell_type": "code",
   "execution_count": 2,
   "id": "97768fe9",
   "metadata": {},
   "outputs": [],
   "source": [
    "#pip install pandas"
   ]
  },
  {
   "cell_type": "code",
   "execution_count": 3,
   "id": "e0faa954",
   "metadata": {},
   "outputs": [],
   "source": [
    "import pandas as pd\n",
    "col_names = ['Frost_pt','Temp_MAX','Temp_MIN','Specific_Hum','Relative_Hum','Winds_Max','Winds_Min','Rain','cDay','Rain1','Rain2','Rain3','Rain4','Rain5']"
   ]
  },
  {
   "cell_type": "code",
   "execution_count": 4,
   "id": "e40ec6c7",
   "metadata": {},
   "outputs": [],
   "source": [
    "prain=pd.read_csv(\"D:/data/tan/train.csv\",header=None,names=col_names)"
   ]
  },
  {
   "cell_type": "code",
   "execution_count": 5,
   "id": "0a515e5e",
   "metadata": {},
   "outputs": [
    {
     "data": {
      "text/html": [
       "<div>\n",
       "<style scoped>\n",
       "    .dataframe tbody tr th:only-of-type {\n",
       "        vertical-align: middle;\n",
       "    }\n",
       "\n",
       "    .dataframe tbody tr th {\n",
       "        vertical-align: top;\n",
       "    }\n",
       "\n",
       "    .dataframe thead th {\n",
       "        text-align: right;\n",
       "    }\n",
       "</style>\n",
       "<table border=\"1\" class=\"dataframe\">\n",
       "  <thead>\n",
       "    <tr style=\"text-align: right;\">\n",
       "      <th></th>\n",
       "      <th>Frost_pt</th>\n",
       "      <th>Temp_MAX</th>\n",
       "      <th>Temp_MIN</th>\n",
       "      <th>Specific_Hum</th>\n",
       "      <th>Relative_Hum</th>\n",
       "      <th>Winds_Max</th>\n",
       "      <th>Winds_Min</th>\n",
       "      <th>Rain</th>\n",
       "      <th>cDay</th>\n",
       "      <th>Rain1</th>\n",
       "      <th>Rain2</th>\n",
       "      <th>Rain3</th>\n",
       "      <th>Rain4</th>\n",
       "      <th>Rain5</th>\n",
       "    </tr>\n",
       "  </thead>\n",
       "  <tbody>\n",
       "    <tr>\n",
       "      <th>0</th>\n",
       "      <td>0.40</td>\n",
       "      <td>19.01</td>\n",
       "      <td>7.75</td>\n",
       "      <td>4.03</td>\n",
       "      <td>46.31</td>\n",
       "      <td>1.68</td>\n",
       "      <td>0.44</td>\n",
       "      <td>0</td>\n",
       "      <td>10001</td>\n",
       "      <td>0</td>\n",
       "      <td>1</td>\n",
       "      <td>0</td>\n",
       "      <td>0</td>\n",
       "      <td>0</td>\n",
       "    </tr>\n",
       "    <tr>\n",
       "      <th>1</th>\n",
       "      <td>0.89</td>\n",
       "      <td>20.65</td>\n",
       "      <td>8.19</td>\n",
       "      <td>4.21</td>\n",
       "      <td>43.44</td>\n",
       "      <td>1.91</td>\n",
       "      <td>0.69</td>\n",
       "      <td>0</td>\n",
       "      <td>10002</td>\n",
       "      <td>1</td>\n",
       "      <td>0</td>\n",
       "      <td>0</td>\n",
       "      <td>0</td>\n",
       "      <td>0</td>\n",
       "    </tr>\n",
       "    <tr>\n",
       "      <th>2</th>\n",
       "      <td>1.78</td>\n",
       "      <td>21.88</td>\n",
       "      <td>9.58</td>\n",
       "      <td>4.58</td>\n",
       "      <td>46.19</td>\n",
       "      <td>3.71</td>\n",
       "      <td>0.72</td>\n",
       "      <td>1</td>\n",
       "      <td>10003</td>\n",
       "      <td>0</td>\n",
       "      <td>0</td>\n",
       "      <td>0</td>\n",
       "      <td>0</td>\n",
       "      <td>0</td>\n",
       "    </tr>\n",
       "    <tr>\n",
       "      <th>3</th>\n",
       "      <td>5.84</td>\n",
       "      <td>21.40</td>\n",
       "      <td>7.73</td>\n",
       "      <td>5.92</td>\n",
       "      <td>64.12</td>\n",
       "      <td>4.48</td>\n",
       "      <td>1.26</td>\n",
       "      <td>0</td>\n",
       "      <td>10004</td>\n",
       "      <td>0</td>\n",
       "      <td>0</td>\n",
       "      <td>0</td>\n",
       "      <td>0</td>\n",
       "      <td>0</td>\n",
       "    </tr>\n",
       "    <tr>\n",
       "      <th>4</th>\n",
       "      <td>3.69</td>\n",
       "      <td>19.09</td>\n",
       "      <td>5.12</td>\n",
       "      <td>5.13</td>\n",
       "      <td>62.69</td>\n",
       "      <td>2.29</td>\n",
       "      <td>0.28</td>\n",
       "      <td>0</td>\n",
       "      <td>10005</td>\n",
       "      <td>0</td>\n",
       "      <td>0</td>\n",
       "      <td>0</td>\n",
       "      <td>0</td>\n",
       "      <td>0</td>\n",
       "    </tr>\n",
       "  </tbody>\n",
       "</table>\n",
       "</div>"
      ],
      "text/plain": [
       "   Frost_pt  Temp_MAX  Temp_MIN  Specific_Hum  Relative_Hum  Winds_Max   \n",
       "0      0.40     19.01      7.75          4.03         46.31       1.68  \\\n",
       "1      0.89     20.65      8.19          4.21         43.44       1.91   \n",
       "2      1.78     21.88      9.58          4.58         46.19       3.71   \n",
       "3      5.84     21.40      7.73          5.92         64.12       4.48   \n",
       "4      3.69     19.09      5.12          5.13         62.69       2.29   \n",
       "\n",
       "   Winds_Min  Rain   cDay  Rain1  Rain2  Rain3  Rain4  Rain5  \n",
       "0       0.44     0  10001      0      1      0      0      0  \n",
       "1       0.69     0  10002      1      0      0      0      0  \n",
       "2       0.72     1  10003      0      0      0      0      0  \n",
       "3       1.26     0  10004      0      0      0      0      0  \n",
       "4       0.28     0  10005      0      0      0      0      0  "
      ]
     },
     "execution_count": 5,
     "metadata": {},
     "output_type": "execute_result"
    }
   ],
   "source": [
    "prain.head()"
   ]
  },
  {
   "cell_type": "code",
   "execution_count": 6,
   "id": "cfe73bc9",
   "metadata": {},
   "outputs": [],
   "source": [
    "feature_cols=['Frost_pt','Temp_MAX','Temp_MIN','Specific_Hum','Relative_Hum','Winds_Max','Winds_Min']\n",
    "x=prain[feature_cols]\n",
    "y0=prain.Rain\n",
    "y1=prain.Rain1\n",
    "y2=prain.Rain2\n",
    "y3=prain.Rain3\n",
    "y4=prain.Rain4\n",
    "y5=prain.Rain5"
   ]
  },
  {
   "cell_type": "code",
   "execution_count": 7,
   "id": "7a6d9ef3",
   "metadata": {},
   "outputs": [],
   "source": [
    "from sklearn.model_selection import train_test_split\n",
    "x_train,x_test,y0_train,y0_test=train_test_split(x,y0,test_size=0.25,random_state=10)"
   ]
  },
  {
   "cell_type": "code",
   "execution_count": 8,
   "id": "2e4aec89",
   "metadata": {},
   "outputs": [],
   "source": [
    "#pip install -U scikit-learn"
   ]
  },
  {
   "cell_type": "code",
   "execution_count": 9,
   "id": "47dc1aeb",
   "metadata": {},
   "outputs": [],
   "source": [
    "from sklearn.linear_model import LogisticRegression"
   ]
  },
  {
   "cell_type": "code",
   "execution_count": 10,
   "id": "2052b5fb",
   "metadata": {},
   "outputs": [],
   "source": [
    "logreg=LogisticRegression(random_state=20)"
   ]
  },
  {
   "cell_type": "code",
   "execution_count": 11,
   "id": "b3c997c9",
   "metadata": {},
   "outputs": [
    {
     "name": "stderr",
     "output_type": "stream",
     "text": [
      "C:\\Users\\Ravindra\\anaconda3\\envs\\tensorflow\\lib\\site-packages\\sklearn\\linear_model\\_logistic.py:458: ConvergenceWarning: lbfgs failed to converge (status=1):\n",
      "STOP: TOTAL NO. of ITERATIONS REACHED LIMIT.\n",
      "\n",
      "Increase the number of iterations (max_iter) or scale the data as shown in:\n",
      "    https://scikit-learn.org/stable/modules/preprocessing.html\n",
      "Please also refer to the documentation for alternative solver options:\n",
      "    https://scikit-learn.org/stable/modules/linear_model.html#logistic-regression\n",
      "  n_iter_i = _check_optimize_result(\n"
     ]
    },
    {
     "data": {
      "text/html": [
       "<style>#sk-container-id-1 {color: black;background-color: white;}#sk-container-id-1 pre{padding: 0;}#sk-container-id-1 div.sk-toggleable {background-color: white;}#sk-container-id-1 label.sk-toggleable__label {cursor: pointer;display: block;width: 100%;margin-bottom: 0;padding: 0.3em;box-sizing: border-box;text-align: center;}#sk-container-id-1 label.sk-toggleable__label-arrow:before {content: \"▸\";float: left;margin-right: 0.25em;color: #696969;}#sk-container-id-1 label.sk-toggleable__label-arrow:hover:before {color: black;}#sk-container-id-1 div.sk-estimator:hover label.sk-toggleable__label-arrow:before {color: black;}#sk-container-id-1 div.sk-toggleable__content {max-height: 0;max-width: 0;overflow: hidden;text-align: left;background-color: #f0f8ff;}#sk-container-id-1 div.sk-toggleable__content pre {margin: 0.2em;color: black;border-radius: 0.25em;background-color: #f0f8ff;}#sk-container-id-1 input.sk-toggleable__control:checked~div.sk-toggleable__content {max-height: 200px;max-width: 100%;overflow: auto;}#sk-container-id-1 input.sk-toggleable__control:checked~label.sk-toggleable__label-arrow:before {content: \"▾\";}#sk-container-id-1 div.sk-estimator input.sk-toggleable__control:checked~label.sk-toggleable__label {background-color: #d4ebff;}#sk-container-id-1 div.sk-label input.sk-toggleable__control:checked~label.sk-toggleable__label {background-color: #d4ebff;}#sk-container-id-1 input.sk-hidden--visually {border: 0;clip: rect(1px 1px 1px 1px);clip: rect(1px, 1px, 1px, 1px);height: 1px;margin: -1px;overflow: hidden;padding: 0;position: absolute;width: 1px;}#sk-container-id-1 div.sk-estimator {font-family: monospace;background-color: #f0f8ff;border: 1px dotted black;border-radius: 0.25em;box-sizing: border-box;margin-bottom: 0.5em;}#sk-container-id-1 div.sk-estimator:hover {background-color: #d4ebff;}#sk-container-id-1 div.sk-parallel-item::after {content: \"\";width: 100%;border-bottom: 1px solid gray;flex-grow: 1;}#sk-container-id-1 div.sk-label:hover label.sk-toggleable__label {background-color: #d4ebff;}#sk-container-id-1 div.sk-serial::before {content: \"\";position: absolute;border-left: 1px solid gray;box-sizing: border-box;top: 0;bottom: 0;left: 50%;z-index: 0;}#sk-container-id-1 div.sk-serial {display: flex;flex-direction: column;align-items: center;background-color: white;padding-right: 0.2em;padding-left: 0.2em;position: relative;}#sk-container-id-1 div.sk-item {position: relative;z-index: 1;}#sk-container-id-1 div.sk-parallel {display: flex;align-items: stretch;justify-content: center;background-color: white;position: relative;}#sk-container-id-1 div.sk-item::before, #sk-container-id-1 div.sk-parallel-item::before {content: \"\";position: absolute;border-left: 1px solid gray;box-sizing: border-box;top: 0;bottom: 0;left: 50%;z-index: -1;}#sk-container-id-1 div.sk-parallel-item {display: flex;flex-direction: column;z-index: 1;position: relative;background-color: white;}#sk-container-id-1 div.sk-parallel-item:first-child::after {align-self: flex-end;width: 50%;}#sk-container-id-1 div.sk-parallel-item:last-child::after {align-self: flex-start;width: 50%;}#sk-container-id-1 div.sk-parallel-item:only-child::after {width: 0;}#sk-container-id-1 div.sk-dashed-wrapped {border: 1px dashed gray;margin: 0 0.4em 0.5em 0.4em;box-sizing: border-box;padding-bottom: 0.4em;background-color: white;}#sk-container-id-1 div.sk-label label {font-family: monospace;font-weight: bold;display: inline-block;line-height: 1.2em;}#sk-container-id-1 div.sk-label-container {text-align: center;}#sk-container-id-1 div.sk-container {/* jupyter's `normalize.less` sets `[hidden] { display: none; }` but bootstrap.min.css set `[hidden] { display: none !important; }` so we also need the `!important` here to be able to override the default hidden behavior on the sphinx rendered scikit-learn.org. See: https://github.com/scikit-learn/scikit-learn/issues/21755 */display: inline-block !important;position: relative;}#sk-container-id-1 div.sk-text-repr-fallback {display: none;}</style><div id=\"sk-container-id-1\" class=\"sk-top-container\"><div class=\"sk-text-repr-fallback\"><pre>LogisticRegression(random_state=20)</pre><b>In a Jupyter environment, please rerun this cell to show the HTML representation or trust the notebook. <br />On GitHub, the HTML representation is unable to render, please try loading this page with nbviewer.org.</b></div><div class=\"sk-container\" hidden><div class=\"sk-item\"><div class=\"sk-estimator sk-toggleable\"><input class=\"sk-toggleable__control sk-hidden--visually\" id=\"sk-estimator-id-1\" type=\"checkbox\" checked><label for=\"sk-estimator-id-1\" class=\"sk-toggleable__label sk-toggleable__label-arrow\">LogisticRegression</label><div class=\"sk-toggleable__content\"><pre>LogisticRegression(random_state=20)</pre></div></div></div></div></div>"
      ],
      "text/plain": [
       "LogisticRegression(random_state=20)"
      ]
     },
     "execution_count": 11,
     "metadata": {},
     "output_type": "execute_result"
    }
   ],
   "source": [
    "logreg.fit(x_train,y0_train)"
   ]
  },
  {
   "cell_type": "code",
   "execution_count": 12,
   "id": "efc65d73",
   "metadata": {},
   "outputs": [
    {
     "name": "stderr",
     "output_type": "stream",
     "text": [
      "C:\\Users\\Ravindra\\anaconda3\\envs\\tensorflow\\lib\\site-packages\\sklearn\\linear_model\\_logistic.py:458: ConvergenceWarning: lbfgs failed to converge (status=1):\n",
      "STOP: TOTAL NO. of ITERATIONS REACHED LIMIT.\n",
      "\n",
      "Increase the number of iterations (max_iter) or scale the data as shown in:\n",
      "    https://scikit-learn.org/stable/modules/preprocessing.html\n",
      "Please also refer to the documentation for alternative solver options:\n",
      "    https://scikit-learn.org/stable/modules/linear_model.html#logistic-regression\n",
      "  n_iter_i = _check_optimize_result(\n"
     ]
    }
   ],
   "source": [
    "history=logreg.fit(x_train,y0_train)"
   ]
  },
  {
   "cell_type": "code",
   "execution_count": 13,
   "id": "41fd6661",
   "metadata": {},
   "outputs": [],
   "source": [
    "y0_pred= logreg.predict(x_test)"
   ]
  },
  {
   "cell_type": "code",
   "execution_count": 14,
   "id": "faa15530",
   "metadata": {},
   "outputs": [
    {
     "data": {
      "text/html": [
       "<div>\n",
       "<style scoped>\n",
       "    .dataframe tbody tr th:only-of-type {\n",
       "        vertical-align: middle;\n",
       "    }\n",
       "\n",
       "    .dataframe tbody tr th {\n",
       "        vertical-align: top;\n",
       "    }\n",
       "\n",
       "    .dataframe thead th {\n",
       "        text-align: right;\n",
       "    }\n",
       "</style>\n",
       "<table border=\"1\" class=\"dataframe\">\n",
       "  <thead>\n",
       "    <tr style=\"text-align: right;\">\n",
       "      <th></th>\n",
       "      <th>Frost_pt</th>\n",
       "      <th>Temp_MAX</th>\n",
       "      <th>Temp_MIN</th>\n",
       "      <th>Specific_Hum</th>\n",
       "      <th>Relative_Hum</th>\n",
       "      <th>Winds_Max</th>\n",
       "      <th>Winds_Min</th>\n",
       "    </tr>\n",
       "  </thead>\n",
       "  <tbody>\n",
       "    <tr>\n",
       "      <th>2965</th>\n",
       "      <td>7.61</td>\n",
       "      <td>24.89</td>\n",
       "      <td>11.73</td>\n",
       "      <td>6.65</td>\n",
       "      <td>55.00</td>\n",
       "      <td>3.59</td>\n",
       "      <td>1.11</td>\n",
       "    </tr>\n",
       "    <tr>\n",
       "      <th>1296</th>\n",
       "      <td>25.05</td>\n",
       "      <td>29.29</td>\n",
       "      <td>24.78</td>\n",
       "      <td>20.81</td>\n",
       "      <td>89.06</td>\n",
       "      <td>3.37</td>\n",
       "      <td>0.58</td>\n",
       "    </tr>\n",
       "    <tr>\n",
       "      <th>3630</th>\n",
       "      <td>5.11</td>\n",
       "      <td>22.87</td>\n",
       "      <td>10.10</td>\n",
       "      <td>5.62</td>\n",
       "      <td>50.69</td>\n",
       "      <td>1.82</td>\n",
       "      <td>0.50</td>\n",
       "    </tr>\n",
       "    <tr>\n",
       "      <th>349</th>\n",
       "      <td>5.55</td>\n",
       "      <td>19.30</td>\n",
       "      <td>9.23</td>\n",
       "      <td>5.86</td>\n",
       "      <td>61.19</td>\n",
       "      <td>1.75</td>\n",
       "      <td>0.73</td>\n",
       "    </tr>\n",
       "    <tr>\n",
       "      <th>3395</th>\n",
       "      <td>11.37</td>\n",
       "      <td>33.69</td>\n",
       "      <td>19.85</td>\n",
       "      <td>8.67</td>\n",
       "      <td>40.56</td>\n",
       "      <td>3.34</td>\n",
       "      <td>0.77</td>\n",
       "    </tr>\n",
       "    <tr>\n",
       "      <th>...</th>\n",
       "      <td>...</td>\n",
       "      <td>...</td>\n",
       "      <td>...</td>\n",
       "      <td>...</td>\n",
       "      <td>...</td>\n",
       "      <td>...</td>\n",
       "      <td>...</td>\n",
       "    </tr>\n",
       "    <tr>\n",
       "      <th>216</th>\n",
       "      <td>25.05</td>\n",
       "      <td>28.30</td>\n",
       "      <td>25.47</td>\n",
       "      <td>20.69</td>\n",
       "      <td>91.81</td>\n",
       "      <td>4.19</td>\n",
       "      <td>0.45</td>\n",
       "    </tr>\n",
       "    <tr>\n",
       "      <th>2667</th>\n",
       "      <td>3.69</td>\n",
       "      <td>42.96</td>\n",
       "      <td>26.83</td>\n",
       "      <td>5.13</td>\n",
       "      <td>14.94</td>\n",
       "      <td>3.28</td>\n",
       "      <td>1.09</td>\n",
       "    </tr>\n",
       "    <tr>\n",
       "      <th>4024</th>\n",
       "      <td>8.48</td>\n",
       "      <td>25.50</td>\n",
       "      <td>12.31</td>\n",
       "      <td>7.20</td>\n",
       "      <td>60.19</td>\n",
       "      <td>2.41</td>\n",
       "      <td>1.13</td>\n",
       "    </tr>\n",
       "    <tr>\n",
       "      <th>3705</th>\n",
       "      <td>12.35</td>\n",
       "      <td>23.54</td>\n",
       "      <td>13.69</td>\n",
       "      <td>9.22</td>\n",
       "      <td>70.19</td>\n",
       "      <td>1.37</td>\n",
       "      <td>0.27</td>\n",
       "    </tr>\n",
       "    <tr>\n",
       "      <th>3347</th>\n",
       "      <td>4.83</td>\n",
       "      <td>24.16</td>\n",
       "      <td>11.22</td>\n",
       "      <td>5.62</td>\n",
       "      <td>50.00</td>\n",
       "      <td>2.96</td>\n",
       "      <td>0.86</td>\n",
       "    </tr>\n",
       "  </tbody>\n",
       "</table>\n",
       "<p>1096 rows × 7 columns</p>\n",
       "</div>"
      ],
      "text/plain": [
       "      Frost_pt  Temp_MAX  Temp_MIN  Specific_Hum  Relative_Hum  Winds_Max   \n",
       "2965      7.61     24.89     11.73          6.65         55.00       3.59  \\\n",
       "1296     25.05     29.29     24.78         20.81         89.06       3.37   \n",
       "3630      5.11     22.87     10.10          5.62         50.69       1.82   \n",
       "349       5.55     19.30      9.23          5.86         61.19       1.75   \n",
       "3395     11.37     33.69     19.85          8.67         40.56       3.34   \n",
       "...        ...       ...       ...           ...           ...        ...   \n",
       "216      25.05     28.30     25.47         20.69         91.81       4.19   \n",
       "2667      3.69     42.96     26.83          5.13         14.94       3.28   \n",
       "4024      8.48     25.50     12.31          7.20         60.19       2.41   \n",
       "3705     12.35     23.54     13.69          9.22         70.19       1.37   \n",
       "3347      4.83     24.16     11.22          5.62         50.00       2.96   \n",
       "\n",
       "      Winds_Min  \n",
       "2965       1.11  \n",
       "1296       0.58  \n",
       "3630       0.50  \n",
       "349        0.73  \n",
       "3395       0.77  \n",
       "...         ...  \n",
       "216        0.45  \n",
       "2667       1.09  \n",
       "4024       1.13  \n",
       "3705       0.27  \n",
       "3347       0.86  \n",
       "\n",
       "[1096 rows x 7 columns]"
      ]
     },
     "execution_count": 14,
     "metadata": {},
     "output_type": "execute_result"
    }
   ],
   "source": [
    "x_test"
   ]
  },
  {
   "cell_type": "code",
   "execution_count": 15,
   "id": "85c1940f",
   "metadata": {},
   "outputs": [],
   "source": [
    "from sklearn import metrics\n",
    "from sklearn import metrics\n",
    "import numpy as np\n",
    "import matplotlib.pyplot as plt\n",
    "import seaborn as sns"
   ]
  },
  {
   "cell_type": "code",
   "execution_count": 16,
   "id": "8296732d",
   "metadata": {},
   "outputs": [
    {
     "data": {
      "image/png": "[encoded data removed]",
      "text/plain": [
       "<Figure size 800x800 with 1 Axes>"
      ]
     },
     "metadata": {},
     "output_type": "display_data"
    }
   ],
   "source": [
    "cnf_matrix=metrics.confusion_matrix(y0_pred,y0_test)\n",
    "cnf_matrix\n",
    "#cm = confusion_matrix(y, model.predict(x))\n",
    "\n",
    "fig, ax = plt.subplots(figsize=(8, 8))\n",
    "ax.imshow(cnf_matrix)\n",
    "ax.grid(False)\n",
    "ax.xaxis.set(ticks=(0, 1), ticklabels=('Predicted 0s', 'Predicted 1s'))\n",
    "ax.yaxis.set(ticks=(0, 1), ticklabels=('Actual 0s', 'Actual 1s'))\n",
    "ax.set_ylim(1.5, -0.5)\n",
    "for i in range(2):\n",
    "    for j in range(2):\n",
    "        ax.text(j, i, cnf_matrix[i, j], ha='center', va='center', color='red')\n",
    "plt.title('Logistic Regression (Model-LR-0)')\n",
    "plt.show()"
   ]
  },
  {
   "cell_type": "code",
   "execution_count": 17,
   "id": "a6894d97",
   "metadata": {},
   "outputs": [],
   "source": [
    "import numpy as np\n",
    "import matplotlib.pyplot as plt\n",
    "import seaborn as sns"
   ]
  },
  {
   "cell_type": "code",
   "execution_count": 18,
   "id": "1d8f763f",
   "metadata": {},
   "outputs": [],
   "source": [
    "#class_names=[0,1]\n",
    "#fig,ax=plt.subplots()\n",
    "#tick_marks=np.arange(len(class_names))\n",
    "#plt.xticks(tick_marks,class_names)\n",
    "#plt.yticks(tick_marks,class_names)"
   ]
  },
  {
   "cell_type": "code",
   "execution_count": 19,
   "id": "4914d1cf",
   "metadata": {},
   "outputs": [
    {
     "data": {
      "text/plain": [
       "Text(0.5, 23.52222222222222, 'Predicted label')"
      ]
     },
     "execution_count": 19,
     "metadata": {},
     "output_type": "execute_result"
    },
    {
     "data": {
      "image/png": "[encoded data removed]",
      "text/plain": [
       "<Figure size 640x480 with 2 Axes>"
      ]
     },
     "metadata": {},
     "output_type": "display_data"
    }
   ],
   "source": [
    "import seaborn as sns\n",
    "sns.heatmap(pd.DataFrame(cnf_matrix),annot=True,cmap=\"YlGnBu\",fmt='g')\n",
    "#ax.xaxis.set_label_position(\"top\")\n",
    "plt.tight_layout()\n",
    "plt.title('Confusion matrix',y=1.1)\n",
    "plt.ylabel('Actual label')\n",
    "plt.xlabel('Predicted label')"
   ]
  },
  {
   "cell_type": "code",
   "execution_count": 21,
   "id": "c1659b8b",
   "metadata": {},
   "outputs": [],
   "source": [
    "##fig, ax = plt.subplots(figsize=(8, 8))\n",
    "#ax.imshow(cm)\n",
    "#ax.grid(False)\n",
    "#ax.xaxis.set(ticks=(0, 1), ticklabels=('Predicted 0s', 'Predicted 1s'))\n",
    "#ax.yaxis.set(ticks=(0, 1), ticklabels=('Actual 0s', 'Actual 1s'))\n",
    "#ax.set_ylim(1.5, -0.5)\n",
    "#for i in range(2):\n",
    "#    for j in range(2):\n",
    "#        ax.text(j, i, cm[i, j], ha='center', va='center', color='red')\n",
    "#plt.show()"
   ]
  },
  {
   "cell_type": "code",
   "execution_count": 23,
   "id": "f48ab942",
   "metadata": {},
   "outputs": [],
   "source": [
    "#loss = history.history['loss']\n",
    "#print(loss)\n",
    "#loss=metrics.log_loss(y0_test,y0_pred_proba)\n",
    "#print ( str(loss))"
   ]
  },
  {
   "cell_type": "code",
   "execution_count": 24,
   "id": "ad2ba25b",
   "metadata": {},
   "outputs": [
    {
     "data": {
      "image/png": "[encoded data removed]",
      "text/plain": [
       "<Figure size 640x480 with 1 Axes>"
      ]
     },
     "metadata": {},
     "output_type": "display_data"
    }
   ],
   "source": [
    "y0_pred_proba=logreg.predict_proba(x_test)[::,1]\n",
    "fpr,tpr,_=metrics.roc_curve(y0_test,y0_pred_proba)\n",
    "auc=metrics.roc_auc_score(y0_test,y0_pred_proba)\n",
    "loss=metrics.log_loss(y0_test,y0_pred_proba)\n",
    "plt.plot(fpr,tpr,label=\"AUC=\"+str(auc))\n",
    "plt.title('Logistic Regression (Model-LR-0)')\n",
    "plt.legend(loc=4)\n",
    "plt.show()"
   ]
  },
  {
   "cell_type": "code",
   "execution_count": 25,
   "id": "efa402b7",
   "metadata": {},
   "outputs": [
    {
     "name": "stdout",
     "output_type": "stream",
     "text": [
      "intercept\n",
      "[9.57313318]\n",
      "cofes\n",
      "[[ 0.21752498 -0.66173176  0.53386639  0.05751792 -0.09800208  0.53665334\n",
      "  -0.32536792]]\n"
     ]
    }
   ],
   "source": [
    "print(\"intercept\")\n",
    "print(logreg.intercept_)\n",
    "print(\"cofes\")\n",
    "print(logreg.coef_)"
   ]
  },
  {
   "cell_type": "code",
   "execution_count": 26,
   "id": "ee535e1e",
   "metadata": {},
   "outputs": [
    {
     "name": "stdout",
     "output_type": "stream",
     "text": [
      "    Actual  Predicted\n",
      "0        0          0\n",
      "1        0          0\n",
      "2        0          0\n",
      "3        0          0\n",
      "4        1          1\n",
      "5        1          0\n",
      "6        0          0\n",
      "7        1          1\n",
      "8        1          0\n",
      "9        1          0\n",
      "10       1          0\n",
      "11       0          0\n",
      "12       0          0\n",
      "13       0          0\n",
      "14       0          0\n",
      "15       0          0\n",
      "16       0          0\n",
      "17       0          0\n",
      "18       0          0\n",
      "19       1          0\n",
      "20       0          0\n",
      "21       1          1\n",
      "22       1          1\n",
      "23       1          0\n",
      "24       1          0\n",
      "25       0          0\n",
      "26       0          0\n",
      "27       0          0\n",
      "28       0          0\n",
      "29       0          0\n",
      "30       0          0\n"
     ]
    }
   ],
   "source": [
    "#Jan\n",
    "import numpy as np\n",
    "pr=pd.read_csv(\"D:/data/tan/i01J.csv\",header=None,names=col_names)\n",
    "X_new1=pr[feature_cols]\n",
    "y0_pred1=logreg.predict(X_new1)\n",
    "\n",
    "d={\n",
    "\n",
    "'Actual':pr.Rain,\n",
    "'Predicted':y0_pred1}\n",
    "df1 = pd.DataFrame(d)\n",
    "print(df1)\n",
    "\n",
    "#print(y5_pred1)\n",
    "#print(pr.Rain5)"
   ]
  },
  {
   "cell_type": "code",
   "execution_count": 27,
   "id": "34475ffd",
   "metadata": {},
   "outputs": [
    {
     "name": "stdout",
     "output_type": "stream",
     "text": [
      "    Actual  Predicted\n",
      "0        0          0\n",
      "1        0          0\n",
      "2        1          1\n",
      "3        1          0\n",
      "4        0          0\n",
      "5        0          0\n",
      "6        0          0\n",
      "7        1          0\n",
      "8        1          0\n",
      "9        0          0\n",
      "10       0          0\n",
      "11       0          0\n",
      "12       0          0\n",
      "13       0          0\n",
      "14       0          0\n",
      "15       0          0\n",
      "16       0          0\n",
      "17       0          0\n",
      "18       0          0\n",
      "19       0          0\n",
      "20       0          0\n",
      "21       0          0\n",
      "22       0          0\n",
      "23       0          0\n",
      "24       0          0\n",
      "25       1          0\n",
      "26       0          0\n",
      "27       0          0\n"
     ]
    }
   ],
   "source": [
    "#feb\n",
    "import numpy as np\n",
    "pr=pd.read_csv(\"D:/data/tan/i02F.csv\",header=None,names=col_names)\n",
    "X_new1=pr[feature_cols]\n",
    "y0_pred1=logreg.predict(X_new1)\n",
    "d={\n",
    "\n",
    "'Actual':pr.Rain,\n",
    "'Predicted':y0_pred1}\n",
    "df1 = pd.DataFrame(d)\n",
    "print(df1)\n"
   ]
  },
  {
   "cell_type": "code",
   "execution_count": 28,
   "id": "dad4052d",
   "metadata": {},
   "outputs": [
    {
     "name": "stdout",
     "output_type": "stream",
     "text": [
      "    Actual  Predicted\n",
      "0        0          0\n",
      "1        0          0\n",
      "2        0          0\n",
      "3        0          0\n",
      "4        0          0\n",
      "5        0          0\n",
      "6        0          0\n",
      "7        0          0\n",
      "8        0          0\n",
      "9        0          0\n",
      "10       0          0\n",
      "11       0          0\n",
      "12       0          0\n",
      "13       0          0\n",
      "14       0          0\n",
      "15       0          0\n",
      "16       0          0\n",
      "17       0          0\n",
      "18       0          0\n",
      "19       0          0\n",
      "20       0          0\n",
      "21       0          0\n",
      "22       0          0\n",
      "23       0          0\n",
      "24       0          0\n",
      "25       0          0\n",
      "26       0          0\n",
      "27       0          0\n",
      "28       0          0\n",
      "29       0          0\n",
      "30       0          0\n"
     ]
    }
   ],
   "source": [
    "#march\n",
    "import numpy as np\n",
    "pr=pd.read_csv(\"D:/data/tan/i03M.csv\",header=None,names=col_names)\n",
    "X_new1=pr[feature_cols]\n",
    "y0_pred1=logreg.predict(X_new1)\n",
    "d={\n",
    "\n",
    "'Actual':pr.Rain,\n",
    "'Predicted':y0_pred1}\n",
    "df1 = pd.DataFrame(d)\n",
    "print(df1)\n"
   ]
  },
  {
   "cell_type": "code",
   "execution_count": 29,
   "id": "d90e0d03",
   "metadata": {},
   "outputs": [
    {
     "name": "stdout",
     "output_type": "stream",
     "text": [
      "    Actual  Predicted\n",
      "0        0          0\n",
      "1        0          0\n",
      "2        0          0\n",
      "3        0          0\n",
      "4        0          0\n",
      "5        0          0\n",
      "6        0          0\n",
      "7        0          0\n",
      "8        0          0\n",
      "9        0          0\n",
      "10       0          0\n",
      "11       0          0\n",
      "12       0          0\n",
      "13       0          0\n",
      "14       0          0\n",
      "15       0          0\n",
      "16       0          0\n",
      "17       0          0\n",
      "18       0          0\n",
      "19       0          0\n",
      "20       0          1\n",
      "21       0          0\n",
      "22       0          0\n",
      "23       0          0\n",
      "24       0          0\n",
      "25       0          0\n",
      "26       0          0\n",
      "27       0          0\n",
      "28       0          0\n",
      "29       0          0\n"
     ]
    }
   ],
   "source": [
    "#Apr\n",
    "import numpy as np\n",
    "pr=pd.read_csv(\"D:/data/tan/i04A.csv\",header=None,names=col_names)\n",
    "X_new1=pr[feature_cols]\n",
    "y0_pred1=logreg.predict(X_new1)\n",
    "d={\n",
    "\n",
    "'Actual':pr.Rain,\n",
    "'Predicted':y0_pred1}\n",
    "df1 = pd.DataFrame(d)\n",
    "print(df1)"
   ]
  },
  {
   "cell_type": "code",
   "execution_count": 30,
   "id": "4a76a99d",
   "metadata": {},
   "outputs": [
    {
     "name": "stdout",
     "output_type": "stream",
     "text": [
      "    Actual  Predicted\n",
      "0        0          0\n",
      "1        0          0\n",
      "2        0          1\n",
      "3        1          0\n",
      "4        1          0\n",
      "5        0          0\n",
      "6        0          0\n",
      "7        1          0\n",
      "8        1          1\n",
      "9        1          1\n",
      "10       1          0\n",
      "11       1          0\n",
      "12       1          0\n",
      "13       0          0\n",
      "14       0          0\n",
      "15       0          0\n",
      "16       1          0\n",
      "17       0          0\n",
      "18       0          0\n",
      "19       1          0\n",
      "20       1          0\n",
      "21       1          0\n",
      "22       1          0\n",
      "23       1          1\n",
      "24       0          0\n",
      "25       0          0\n",
      "26       0          0\n",
      "27       1          1\n",
      "28       1          0\n",
      "29       0          0\n",
      "30       0          0\n"
     ]
    }
   ],
   "source": [
    "#may\n",
    "import numpy as np\n",
    "pr=pd.read_csv(\"D:/data/tan/i05M.csv\",header=None,names=col_names)\n",
    "X_new1=pr[feature_cols]\n",
    "y0_pred1=logreg.predict(X_new1)\n",
    "d={\n",
    "\n",
    "'Actual':pr.Rain,\n",
    "'Predicted':y0_pred1}\n",
    "df1 = pd.DataFrame(d)\n",
    "print(df1)"
   ]
  },
  {
   "cell_type": "code",
   "execution_count": 31,
   "id": "f60b5ea1",
   "metadata": {},
   "outputs": [
    {
     "name": "stdout",
     "output_type": "stream",
     "text": [
      "    Actual  Predicted\n",
      "0        0          0\n",
      "1        0          0\n",
      "2        0          0\n",
      "3        0          0\n",
      "4        0          0\n",
      "5        0          0\n",
      "6        0          0\n",
      "7        0          0\n",
      "8        0          0\n",
      "9        0          0\n",
      "10       0          0\n",
      "11       1          0\n",
      "12       0          0\n",
      "13       0          1\n",
      "14       0          1\n",
      "15       1          1\n",
      "16       1          1\n",
      "17       1          1\n",
      "18       1          1\n",
      "19       1          1\n",
      "20       1          0\n",
      "21       0          0\n",
      "22       1          0\n",
      "23       0          0\n",
      "24       0          0\n",
      "25       1          1\n",
      "26       1          1\n",
      "27       1          1\n",
      "28       1          1\n",
      "29       1          1\n"
     ]
    }
   ],
   "source": [
    "#June\n",
    "import numpy as np\n",
    "pr=pd.read_csv(\"D:/data/tan/i06J.csv\",header=None,names=col_names)\n",
    "X_new1=pr[feature_cols]\n",
    "y0_pred1=logreg.predict(X_new1)\n",
    "d={\n",
    "\n",
    "'Actual':pr.Rain,\n",
    "'Predicted':y0_pred1}\n",
    "df1 = pd.DataFrame(d)\n",
    "print(df1)"
   ]
  },
  {
   "cell_type": "code",
   "execution_count": 32,
   "id": "1a1a90ad",
   "metadata": {},
   "outputs": [
    {
     "name": "stdout",
     "output_type": "stream",
     "text": [
      "    Actual  Predicted\n",
      "0        1          1\n",
      "1        1          1\n",
      "2        1          1\n",
      "3        0          1\n",
      "4        1          1\n",
      "5        1          1\n",
      "6        0          1\n",
      "7        1          1\n",
      "8        1          1\n",
      "9        1          1\n",
      "10       1          1\n",
      "11       1          1\n",
      "12       1          1\n",
      "13       1          1\n",
      "14       0          1\n",
      "15       1          1\n",
      "16       1          1\n",
      "17       1          1\n",
      "18       1          1\n",
      "19       1          1\n",
      "20       1          1\n",
      "21       1          1\n",
      "22       1          1\n",
      "23       1          1\n",
      "24       1          1\n",
      "25       1          1\n",
      "26       1          1\n",
      "27       1          1\n",
      "28       1          0\n",
      "29       1          1\n",
      "30       1          1\n"
     ]
    }
   ],
   "source": [
    "#July\n",
    "import numpy as np\n",
    "pr=pd.read_csv(\"D:/data/tan/i07J.csv\",header=None,names=col_names)\n",
    "X_new1=pr[feature_cols]\n",
    "y0_pred1=logreg.predict(X_new1)\n",
    "d={\n",
    "\n",
    "'Actual':pr.Rain,\n",
    "'Predicted':y0_pred1}\n",
    "df1 = pd.DataFrame(d)\n",
    "print(df1)"
   ]
  },
  {
   "cell_type": "code",
   "execution_count": 33,
   "id": "797a5b24",
   "metadata": {},
   "outputs": [
    {
     "name": "stdout",
     "output_type": "stream",
     "text": [
      "    Actual  Predicted\n",
      "0        1          1\n",
      "1        1          1\n",
      "2        1          1\n",
      "3        1          1\n",
      "4        1          1\n",
      "5        0          1\n",
      "6        1          1\n",
      "7        0          1\n",
      "8        0          1\n",
      "9        1          1\n",
      "10       1          1\n",
      "11       0          1\n",
      "12       0          1\n",
      "13       1          1\n",
      "14       1          1\n",
      "15       0          1\n",
      "16       0          1\n",
      "17       0          1\n",
      "18       1          1\n",
      "19       1          1\n",
      "20       0          1\n",
      "21       1          1\n",
      "22       1          1\n",
      "23       1          1\n",
      "24       1          1\n",
      "25       0          1\n",
      "26       0          1\n",
      "27       1          1\n",
      "28       1          1\n",
      "29       1          1\n",
      "30       0          1\n"
     ]
    }
   ],
   "source": [
    "#aug\n",
    "import numpy as np\n",
    "pr=pd.read_csv(\"D:/data/tan/i08A.csv\",header=None,names=col_names)\n",
    "X_new1=pr[feature_cols]\n",
    "y0_pred1=logreg.predict(X_new1)\n",
    "d={\n",
    "\n",
    "'Actual':pr.Rain,\n",
    "'Predicted':y0_pred1}\n",
    "df1 = pd.DataFrame(d)\n",
    "print(df1)"
   ]
  },
  {
   "cell_type": "code",
   "execution_count": 34,
   "id": "69118a9a",
   "metadata": {},
   "outputs": [
    {
     "name": "stdout",
     "output_type": "stream",
     "text": [
      "    Actual  Predicted\n",
      "0        1          1\n",
      "1        1          1\n",
      "2        0          1\n",
      "3        0          1\n",
      "4        0          1\n",
      "5        0          0\n",
      "6        1          0\n",
      "7        1          1\n",
      "8        1          1\n",
      "9        1          1\n",
      "10       1          1\n",
      "11       1          1\n",
      "12       1          1\n",
      "13       1          1\n",
      "14       1          1\n",
      "15       1          1\n",
      "16       1          1\n",
      "17       1          1\n",
      "18       1          1\n",
      "19       1          1\n",
      "20       1          1\n",
      "21       1          1\n",
      "22       1          1\n",
      "23       1          1\n",
      "24       1          1\n",
      "25       1          1\n",
      "26       0          0\n",
      "27       0          1\n",
      "28       0          1\n",
      "29       0          1\n"
     ]
    }
   ],
   "source": [
    "#sep\n",
    "import numpy as np\n",
    "pr=pd.read_csv(\"D:/data/tan/i09S.csv\",header=None,names=col_names)\n",
    "X_new1=pr[feature_cols]\n",
    "y0_pred1=logreg.predict(X_new1)\n",
    "d={\n",
    "\n",
    "'Actual':pr.Rain,\n",
    "'Predicted':y0_pred1}\n",
    "df1 = pd.DataFrame(d)\n",
    "print(df1)"
   ]
  },
  {
   "cell_type": "code",
   "execution_count": 35,
   "id": "6232a174",
   "metadata": {},
   "outputs": [
    {
     "name": "stdout",
     "output_type": "stream",
     "text": [
      "    Actual  Predicted\n",
      "0        1          1\n",
      "1        1          1\n",
      "2        0          1\n",
      "3        0          1\n",
      "4        1          1\n",
      "5        1          1\n",
      "6        1          1\n",
      "7        1          1\n",
      "8        1          1\n",
      "9        1          1\n",
      "10       1          0\n",
      "11       1          0\n",
      "12       0          0\n",
      "13       0          1\n",
      "14       0          1\n",
      "15       0          0\n",
      "16       0          0\n",
      "17       0          0\n",
      "18       0          0\n",
      "19       0          0\n",
      "20       0          0\n",
      "21       0          0\n",
      "22       0          0\n",
      "23       0          0\n",
      "24       0          0\n",
      "25       0          0\n",
      "26       0          0\n",
      "27       0          0\n",
      "28       0          0\n",
      "29       0          0\n",
      "30       0          0\n"
     ]
    }
   ],
   "source": [
    "#oct\n",
    "import numpy as np\n",
    "pr=pd.read_csv(\"D:/data/tan/i10O.csv\",header=None,names=col_names)\n",
    "X_new1=pr[feature_cols]\n",
    "y0_pred1=logreg.predict(X_new1)\n",
    "d={\n",
    "\n",
    "'Actual':pr.Rain,\n",
    "'Predicted':y0_pred1}\n",
    "df1 = pd.DataFrame(d)\n",
    "print(df1)"
   ]
  },
  {
   "cell_type": "code",
   "execution_count": 36,
   "id": "b6674f4e",
   "metadata": {},
   "outputs": [
    {
     "name": "stdout",
     "output_type": "stream",
     "text": [
      "    Actual  Predicted\n",
      "0        0          0\n",
      "1        0          0\n",
      "2        0          0\n",
      "3        0          0\n",
      "4        0          0\n",
      "5        0          0\n",
      "6        0          1\n",
      "7        0          0\n",
      "8        0          0\n",
      "9        0          0\n",
      "10       0          0\n",
      "11       0          0\n",
      "12       0          0\n",
      "13       0          0\n",
      "14       0          0\n",
      "15       0          0\n",
      "16       0          0\n",
      "17       0          0\n",
      "18       0          0\n",
      "19       0          0\n",
      "20       0          0\n",
      "21       0          0\n",
      "22       0          0\n",
      "23       0          0\n",
      "24       0          0\n",
      "25       0          0\n",
      "26       0          0\n",
      "27       0          0\n",
      "28       0          0\n",
      "29       0          0\n"
     ]
    }
   ],
   "source": [
    "#nov\n",
    "import numpy as np\n",
    "pr=pd.read_csv(\"D:/data/tan/i11N.csv\",header=None,names=col_names)\n",
    "X_new1=pr[feature_cols]\n",
    "y0_pred1=logreg.predict(X_new1)\n",
    "d={\n",
    "\n",
    "'Actual':pr.Rain,\n",
    "'Predicted':y0_pred1}\n",
    "df1 = pd.DataFrame(d)\n",
    "print(df1)"
   ]
  },
  {
   "cell_type": "code",
   "execution_count": 37,
   "id": "83120aef",
   "metadata": {},
   "outputs": [
    {
     "name": "stdout",
     "output_type": "stream",
     "text": [
      "    Actual  Predicted\n",
      "0        0          0\n",
      "1        0          0\n",
      "2        0          0\n",
      "3        0          0\n",
      "4        0          0\n",
      "5        0          0\n",
      "6        0          0\n",
      "7        0          0\n",
      "8        0          0\n",
      "9        0          0\n",
      "10       0          0\n",
      "11       0          0\n",
      "12       0          0\n",
      "13       0          0\n",
      "14       0          0\n",
      "15       0          0\n",
      "16       0          0\n",
      "17       0          0\n",
      "18       0          0\n",
      "19       0          0\n",
      "20       0          0\n",
      "21       0          0\n",
      "22       0          0\n",
      "23       0          0\n",
      "24       0          0\n",
      "25       0          0\n",
      "26       0          0\n",
      "27       0          0\n",
      "28       0          0\n",
      "29       0          0\n",
      "30       0          0\n"
     ]
    }
   ],
   "source": [
    "#DEc\n",
    "import numpy as np\n",
    "pr=pd.read_csv(\"D:/data/tan/i12D.csv\",header=None,names=col_names)\n",
    "X_new1=pr[feature_cols]\n",
    "y0_pred1=logreg.predict(X_new1)\n",
    "d={\n",
    "\n",
    "'Actual':pr.Rain,\n",
    "'Predicted':y0_pred1}\n",
    "df1 = pd.DataFrame(d)\n",
    "print(df1)"
   ]
  },
  {
   "cell_type": "code",
   "execution_count": null,
   "id": "ba967c7f",
   "metadata": {},
   "outputs": [],
   "source": []
  },
  {
   "cell_type": "code",
   "execution_count": null,
   "id": "8b214566",
   "metadata": {},
   "outputs": [],
   "source": []
  },
  {
   "cell_type": "code",
   "execution_count": null,
   "id": "119bb074",
   "metadata": {},
   "outputs": [],
   "source": []
  }
 ],
 "metadata": {
  "kernelspec": {
   "display_name": "Python 3 (ipykernel)",
   "language": "python",
   "name": "python3"
  },
  "language_info": {
   "codemirror_mode": {
    "name": "ipython",
    "version": 3
   },
   "file_extension": ".py",
   "mimetype": "text/x-python",
   "name": "python",
   "nbconvert_exporter": "python",
   "pygments_lexer": "ipython3",
   "version": "3.10.9"
  }
 },
 "nbformat": 4,
 "nbformat_minor": 5
}
